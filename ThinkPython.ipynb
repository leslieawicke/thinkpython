{
 "cells": [
  {
   "cell_type": "markdown",
   "metadata": {
    "colab_type": "text",
    "id": "U3DQL0gLTV_H"
   },
   "source": [
    "# CHAPTER ONE\n",
    "\n"
   ]
  },
  {
   "cell_type": "markdown",
   "metadata": {
    "colab_type": "text",
    "id": "yZLNaVu-GjeG"
   },
   "source": [
    "**PROGRAMMING:** the process of breaking a large, complex task into smaller and smaller subtasks until the subtasks are simple enough to be performed with basic instructions. (Allen Downey)"
   ]
  },
  {
   "cell_type": "markdown",
   "metadata": {
    "colab_type": "text",
    "id": "YVD1O9rkG58H"
   },
   "source": [
    "## **BUILDING BLOCKS:**\n",
    "\n",
    "\n",
    "*   input\n",
    "*   output\n",
    "*   math\n",
    "*   conditionals\n",
    "*   repetition\n",
    "\n",
    "\n",
    "\n"
   ]
  },
  {
   "cell_type": "code",
   "execution_count": 0,
   "metadata": {
    "colab": {
     "autoexec": {
      "startup": false,
      "wait_interval": 0
     }
    },
    "colab_type": "code",
    "id": "lM2L6JE7Bclf"
   },
   "outputs": [],
   "source": [
    "print(\"Hello World\")"
   ]
  },
  {
   "cell_type": "code",
   "execution_count": 0,
   "metadata": {
    "colab": {
     "autoexec": {
      "startup": false,
      "wait_interval": 0
     }
    },
    "colab_type": "code",
    "id": "sTN9HOHsHxsU"
   },
   "outputs": [],
   "source": [
    "4+4"
   ]
  },
  {
   "cell_type": "code",
   "execution_count": 0,
   "metadata": {
    "colab": {
     "autoexec": {
      "startup": false,
      "wait_interval": 0
     }
    },
    "colab_type": "code",
    "id": "qKzB94KqH0mK"
   },
   "outputs": [],
   "source": [
    "4*4"
   ]
  },
  {
   "cell_type": "code",
   "execution_count": 12,
   "metadata": {
    "colab": {
     "autoexec": {
      "startup": false,
      "wait_interval": 0
     },
     "base_uri": "https://localhost:8080/",
     "height": 35,
     "output_extras": [
      {
       "item_id": 1
      }
     ]
    },
    "colab_type": "code",
    "executionInfo": {
     "elapsed": 269,
     "status": "ok",
     "timestamp": 1518205889901,
     "user": {
      "displayName": "T. B. Jeremiah",
      "photoUrl": "//lh4.googleusercontent.com/-sbsNzgP8b30/AAAAAAAAAAI/AAAAAAAAArw/pGQiKVMiing/s50-c-k-no/photo.jpg",
      "userId": "117301031527496546310"
     },
     "user_tz": 300
    },
    "id": "D3YEcBBWH1iz",
    "outputId": "645f7555-5706-4026-c44c-ade33458015e"
   },
   "outputs": [
    {
     "data": {
      "text/plain": [
       "256"
      ]
     },
     "execution_count": 12,
     "metadata": {
      "tags": []
     },
     "output_type": "execute_result"
    }
   ],
   "source": [
    "4**4"
   ]
  },
  {
   "cell_type": "markdown",
   "metadata": {
    "colab_type": "text",
    "id": "xGt9qJTuHYgD"
   },
   "source": [
    "### VALUE TYPES\n",
    "\n"
   ]
  },
  {
   "cell_type": "markdown",
   "metadata": {
    "colab_type": "text",
    "id": "2eotk_SCISnV"
   },
   "source": [
    "*   int\n",
    "*   str\n",
    "*   float"
   ]
  },
  {
   "cell_type": "code",
   "execution_count": 11,
   "metadata": {
    "colab": {
     "autoexec": {
      "startup": false,
      "wait_interval": 0
     },
     "base_uri": "https://localhost:8080/",
     "height": 35,
     "output_extras": [
      {
       "item_id": 1
      }
     ]
    },
    "colab_type": "code",
    "executionInfo": {
     "elapsed": 458,
     "status": "ok",
     "timestamp": 1518205844900,
     "user": {
      "displayName": "T. B. Jeremiah",
      "photoUrl": "//lh4.googleusercontent.com/-sbsNzgP8b30/AAAAAAAAAAI/AAAAAAAAArw/pGQiKVMiing/s50-c-k-no/photo.jpg",
      "userId": "117301031527496546310"
     },
     "user_tz": 300
    },
    "id": "Wwr7ZcPuHosO",
    "outputId": "77a900cb-ed9c-4756-f6ff-1fb73f539d36"
   },
   "outputs": [
    {
     "data": {
      "text/plain": [
       "str"
      ]
     },
     "execution_count": 11,
     "metadata": {
      "tags": []
     },
     "output_type": "execute_result"
    }
   ],
   "source": [
    "type(\"help\")"
   ]
  },
  {
   "cell_type": "markdown",
   "metadata": {
    "colab_type": "text",
    "id": "yoZKQk1_IOAn"
   },
   "source": [
    "## DEBUGGING"
   ]
  },
  {
   "cell_type": "markdown",
   "metadata": {
    "colab_type": "text",
    "id": "pVt6TtVIIXb2"
   },
   "source": [
    "Programming, and especially debugging, sometimes brings out strong emotions. If you are struggling with a difficult bug, you might feel angry, despondent, or embarrassed. ...Your job is to be a good manager: find ways to take advantage of the strengths [of the computer] and mitigate the weaknesses. And find ways to use your emotions to engage with the problem... (Allen Downey)"
   ]
  },
  {
   "cell_type": "markdown",
   "metadata": {
    "colab_type": "text",
    "id": "ZB7TT1ycTd2h"
   },
   "source": [
    "## EXERCISES"
   ]
  },
  {
   "cell_type": "markdown",
   "metadata": {
    "colab_type": "text",
    "id": "YfyuHbHmJAbK"
   },
   "source": [
    "### *Exercise 1.1: Syntax Errors*"
   ]
  },
  {
   "cell_type": "code",
   "execution_count": 0,
   "metadata": {
    "colab": {
     "autoexec": {
      "startup": false,
      "wait_interval": 0
     }
    },
    "colab_type": "code",
    "id": "VZL4XrjtJDk4"
   },
   "outputs": [],
   "source": [
    "print\"hello world\")"
   ]
  },
  {
   "cell_type": "code",
   "execution_count": 0,
   "metadata": {
    "colab": {
     "autoexec": {
      "startup": false,
      "wait_interval": 0
     }
    },
    "colab_type": "code",
    "id": "EGHghE1wJJnw"
   },
   "outputs": [],
   "source": [
    "print(hello world\")"
   ]
  },
  {
   "cell_type": "code",
   "execution_count": 0,
   "metadata": {
    "colab": {
     "autoexec": {
      "startup": false,
      "wait_interval": 0
     }
    },
    "colab_type": "code",
    "id": "kNQpE0_cJVsB"
   },
   "outputs": [],
   "source": [
    "4++2"
   ]
  },
  {
   "cell_type": "code",
   "execution_count": 0,
   "metadata": {
    "colab": {
     "autoexec": {
      "startup": false,
      "wait_interval": 0
     }
    },
    "colab_type": "code",
    "id": "FAG2ke5VLkor"
   },
   "outputs": [],
   "source": [
    "02"
   ]
  },
  {
   "cell_type": "code",
   "execution_count": 0,
   "metadata": {
    "colab": {
     "autoexec": {
      "startup": false,
      "wait_interval": 0
     }
    },
    "colab_type": "code",
    "id": "CDPPEY44LutF"
   },
   "outputs": [],
   "source": [
    "3 4"
   ]
  },
  {
   "cell_type": "markdown",
   "metadata": {
    "colab_type": "text",
    "id": "ISgCA8ovL6EX"
   },
   "source": [
    "### Exercise 1.2: Math Operations"
   ]
  },
  {
   "cell_type": "code",
   "execution_count": 0,
   "metadata": {
    "colab": {
     "autoexec": {
      "startup": false,
      "wait_interval": 0
     }
    },
    "colab_type": "code",
    "id": "l8IENLyCMAAA"
   },
   "outputs": [],
   "source": [
    "(42*60)+42"
   ]
  },
  {
   "cell_type": "code",
   "execution_count": 0,
   "metadata": {
    "colab": {
     "autoexec": {
      "startup": false,
      "wait_interval": 0
     }
    },
    "colab_type": "code",
    "id": "X-V2gIyVMJyF"
   },
   "outputs": [],
   "source": [
    "1.61*10"
   ]
  },
  {
   "cell_type": "code",
   "execution_count": 0,
   "metadata": {
    "colab": {
     "autoexec": {
      "startup": false,
      "wait_interval": 0
     }
    },
    "colab_type": "code",
    "id": "LIUGD-u3PUKZ"
   },
   "outputs": [],
   "source": [
    "(((42*60)+42)/(10*1.61))/60"
   ]
  },
  {
   "cell_type": "code",
   "execution_count": 0,
   "metadata": {
    "colab": {
     "autoexec": {
      "startup": false,
      "wait_interval": 0
     }
    },
    "colab_type": "code",
    "id": "MkKNnCFNTBES"
   },
   "outputs": [],
   "source": [
    "((((42*60)+42)/(10*1.61))/60)/2"
   ]
  },
  {
   "cell_type": "markdown",
   "metadata": {
    "colab_type": "text",
    "id": "wfXOjvTZ3icZ"
   },
   "source": [
    "# CHAPTER TWO"
   ]
  },
  {
   "cell_type": "markdown",
   "metadata": {
    "colab_type": "text",
    "id": "ARzOx02o6nZL"
   },
   "source": [
    "## BASICS"
   ]
  },
  {
   "cell_type": "markdown",
   "metadata": {
    "colab_type": "text",
    "id": "ErRXANik3lvA"
   },
   "source": [
    "**VARIABLE:** a name that refers to a value (this is its state?)."
   ]
  },
  {
   "cell_type": "markdown",
   "metadata": {
    "colab_type": "text",
    "id": "poS5eQlp4pB7"
   },
   "source": [
    "**EXPRESSION:** a combination of values, variables, and operators (can also be a value or variable on their own)."
   ]
  },
  {
   "cell_type": "markdown",
   "metadata": {
    "colab_type": "text",
    "id": "nqrejlqR45J5"
   },
   "source": [
    "**STATEMENT:** A unit of code that has an effect."
   ]
  },
  {
   "cell_type": "code",
   "execution_count": 0,
   "metadata": {
    "colab": {
     "autoexec": {
      "startup": false,
      "wait_interval": 0
     }
    },
    "colab_type": "code",
    "id": "OaaFOV5A4DkE"
   },
   "outputs": [],
   "source": [
    "message = \"fork\"\n",
    "print(message)"
   ]
  },
  {
   "cell_type": "markdown",
   "metadata": {
    "colab_type": "text",
    "id": "MuAVXslM-0Mh"
   },
   "source": [
    "**ASSIGNMENT:** A statement that assigns a value to a variable."
   ]
  },
  {
   "cell_type": "code",
   "execution_count": 0,
   "metadata": {
    "colab": {
     "autoexec": {
      "startup": false,
      "wait_interval": 0
     }
    },
    "colab_type": "code",
    "id": "A3d5Uu1--65m"
   },
   "outputs": [],
   "source": [
    "p = 6"
   ]
  },
  {
   "cell_type": "markdown",
   "metadata": {
    "colab_type": "text",
    "id": "dul4qFWW6qUI"
   },
   "source": [
    "**SCRIPT MODE:** save your code to a .py file and execute it in the interpreter in script mode to run more complex code.\n",
    "  N.B. might need to go back to this later and work on it, or ask Kolya."
   ]
  },
  {
   "cell_type": "markdown",
   "metadata": {
    "colab_type": "text",
    "id": "xvZIv9D49e-s"
   },
   "source": [
    "**COMMENTS:** use # in code to comment out something (either code you want to set to one side, or notes that explain something not obvious in the code... anything you don't want the interpeter to execute)"
   ]
  },
  {
   "cell_type": "markdown",
   "metadata": {
    "colab_type": "text",
    "id": "sc7Sr1lD7yzU"
   },
   "source": [
    "## ORDER OF OPERATIONS"
   ]
  },
  {
   "cell_type": "markdown",
   "metadata": {
    "colab_type": "text",
    "id": "Vt4qg-4g72m_"
   },
   "source": [
    "\n",
    "\n",
    "*   Parentheses\n",
    "*   Ezponentiation\n",
    "*   Multiplication and Division\n",
    "*   Addition and Subtraction\n",
    "*   Left to Right\n"
   ]
  },
  {
   "cell_type": "markdown",
   "metadata": {
    "colab_type": "text",
    "id": "4GDDUWlp8V16"
   },
   "source": [
    "## STRING OPERATIONS"
   ]
  },
  {
   "cell_type": "markdown",
   "metadata": {
    "colab_type": "text",
    "id": "ZVR0SBdy8ZV_"
   },
   "source": [
    "Strings cannot be used with most operators."
   ]
  },
  {
   "cell_type": "code",
   "execution_count": 0,
   "metadata": {
    "colab": {
     "autoexec": {
      "startup": false,
      "wait_interval": 0
     }
    },
    "colab_type": "code",
    "id": "3I1AZdjd8i2m"
   },
   "outputs": [],
   "source": [
    "print(\"pipe\" - \"stem\")"
   ]
  },
  {
   "cell_type": "markdown",
   "metadata": {
    "colab_type": "text",
    "id": "qRk3ZM6E8nAG"
   },
   "source": [
    "**EXCEPTIONS:** concatenation and repetition"
   ]
  },
  {
   "cell_type": "code",
   "execution_count": 0,
   "metadata": {
    "colab": {
     "autoexec": {
      "startup": false,
      "wait_interval": 0
     }
    },
    "colab_type": "code",
    "id": "50qenlXX8r1r"
   },
   "outputs": [],
   "source": [
    "print(\"pipe\" + \"stem\")"
   ]
  },
  {
   "cell_type": "code",
   "execution_count": 0,
   "metadata": {
    "colab": {
     "autoexec": {
      "startup": false,
      "wait_interval": 0
     }
    },
    "colab_type": "code",
    "id": "ZJFXC_Zq82GQ"
   },
   "outputs": [],
   "source": [
    "print(\"pipe\"*3)"
   ]
  },
  {
   "cell_type": "markdown",
   "metadata": {
    "colab_type": "text",
    "id": "UJ5e7puE89Yn"
   },
   "source": [
    "N.B. reptition only works if one value is an integer."
   ]
  },
  {
   "cell_type": "markdown",
   "metadata": {
    "colab_type": "text",
    "id": "sOjsl2gZ9VxV"
   },
   "source": [
    "## DEBUGGING"
   ]
  },
  {
   "cell_type": "markdown",
   "metadata": {
    "colab_type": "text",
    "id": "wP5L3KXw9vnV"
   },
   "source": [
    "### TYPES OF ERRORS"
   ]
  },
  {
   "cell_type": "markdown",
   "metadata": {
    "colab_type": "text",
    "id": "py2EAwfO91_T"
   },
   "source": [
    "\n",
    "\n",
    "*   **Syntax Errors:** Python will quit and not run program. Caused by errors in how you structured/wrote your code, make it unparseable (e.g. missing paren).\n",
    "*   **Runtime Errors:** Appear while running program. Also called **exceptions**. Rare in simply programs.\n",
    "*   **Semantic Errors:** The code is written properly, but the meaning is wrong. It does something you don't want, because you asked it to do the wrong thing.\n",
    "\n"
   ]
  },
  {
   "cell_type": "markdown",
   "metadata": {
    "colab_type": "text",
    "id": "6odQo2IsANYZ"
   },
   "source": [
    "## EXERCISES"
   ]
  },
  {
   "cell_type": "markdown",
   "metadata": {
    "colab_type": "text",
    "id": "LJvsnRR3AQqH"
   },
   "source": [
    "### Exercise 2.1"
   ]
  },
  {
   "cell_type": "code",
   "execution_count": 29,
   "metadata": {
    "colab": {
     "autoexec": {
      "startup": false,
      "wait_interval": 0
     },
     "base_uri": "https://localhost:8080/",
     "height": 136,
     "output_extras": [
      {
       "item_id": 1
      }
     ]
    },
    "colab_type": "code",
    "executionInfo": {
     "elapsed": 443,
     "status": "error",
     "timestamp": 1518304751511,
     "user": {
      "displayName": "T. B. Jeremiah",
      "photoUrl": "//lh4.googleusercontent.com/-sbsNzgP8b30/AAAAAAAAAAI/AAAAAAAAArw/pGQiKVMiing/s50-c-k-no/photo.jpg",
      "userId": "117301031527496546310"
     },
     "user_tz": 300
    },
    "id": "vDnwj6ceAYei",
    "outputId": "c72093e8-0be0-4930-8231-65fc0096bb4d"
   },
   "outputs": [
    {
     "ename": "SyntaxError",
     "evalue": "ignored",
     "output_type": "error",
     "traceback": [
      "\u001b[0;36m  File \u001b[0;32m\"<ipython-input-29-41bd5ba24121>\"\u001b[0;36m, line \u001b[0;32m1\u001b[0m\n\u001b[0;31m    42 = 12\u001b[0m\n\u001b[0m           ^\u001b[0m\n\u001b[0;31mSyntaxError\u001b[0m\u001b[0;31m:\u001b[0m can't assign to literal\n"
     ]
    }
   ],
   "source": [
    "42 = 12"
   ]
  },
  {
   "cell_type": "code",
   "execution_count": 0,
   "metadata": {
    "colab": {
     "autoexec": {
      "startup": false,
      "wait_interval": 0
     }
    },
    "colab_type": "code",
    "id": "QtTMErNEAhii"
   },
   "outputs": [],
   "source": [
    "x = y = 1"
   ]
  },
  {
   "cell_type": "code",
   "execution_count": 31,
   "metadata": {
    "colab": {
     "autoexec": {
      "startup": false,
      "wait_interval": 0
     },
     "base_uri": "https://localhost:8080/",
     "height": 35,
     "output_extras": [
      {
       "item_id": 1
      }
     ]
    },
    "colab_type": "code",
    "executionInfo": {
     "elapsed": 449,
     "status": "ok",
     "timestamp": 1518304754485,
     "user": {
      "displayName": "T. B. Jeremiah",
      "photoUrl": "//lh4.googleusercontent.com/-sbsNzgP8b30/AAAAAAAAAAI/AAAAAAAAArw/pGQiKVMiing/s50-c-k-no/photo.jpg",
      "userId": "117301031527496546310"
     },
     "user_tz": 300
    },
    "id": "Yah66Ri-Apm3",
    "outputId": "9231d7b4-1928-4517-c5b8-f936f3c9fb75"
   },
   "outputs": [
    {
     "name": "stdout",
     "output_type": "stream",
     "text": [
      "boo\n"
     ]
    }
   ],
   "source": [
    "print(\"boo\");"
   ]
  },
  {
   "cell_type": "markdown",
   "metadata": {
    "colab_type": "text",
    "id": "Ad0W3mrxA4_7"
   },
   "source": [
    "N.B. apparently semicolons can be there or not be there."
   ]
  },
  {
   "cell_type": "code",
   "execution_count": 32,
   "metadata": {
    "colab": {
     "autoexec": {
      "startup": false,
      "wait_interval": 0
     },
     "base_uri": "https://localhost:8080/",
     "height": 136,
     "output_extras": [
      {
       "item_id": 1
      }
     ]
    },
    "colab_type": "code",
    "executionInfo": {
     "elapsed": 310,
     "status": "error",
     "timestamp": 1518304755715,
     "user": {
      "displayName": "T. B. Jeremiah",
      "photoUrl": "//lh4.googleusercontent.com/-sbsNzgP8b30/AAAAAAAAAAI/AAAAAAAAArw/pGQiKVMiing/s50-c-k-no/photo.jpg",
      "userId": "117301031527496546310"
     },
     "user_tz": 300
    },
    "id": "iNAZyNJ1Azw7",
    "outputId": "c4a95d35-ed3f-4c01-b686-fadc44908f7c"
   },
   "outputs": [
    {
     "ename": "SyntaxError",
     "evalue": "ignored",
     "output_type": "error",
     "traceback": [
      "\u001b[0;36m  File \u001b[0;32m\"<ipython-input-32-57b4bab3365d>\"\u001b[0;36m, line \u001b[0;32m1\u001b[0m\n\u001b[0;31m    print(\"boo\").\u001b[0m\n\u001b[0m                 ^\u001b[0m\n\u001b[0;31mSyntaxError\u001b[0m\u001b[0;31m:\u001b[0m invalid syntax\n"
     ]
    }
   ],
   "source": [
    "print(\"boo\")."
   ]
  },
  {
   "cell_type": "code",
   "execution_count": 33,
   "metadata": {
    "colab": {
     "autoexec": {
      "startup": false,
      "wait_interval": 0
     },
     "base_uri": "https://localhost:8080/",
     "height": 208,
     "output_extras": [
      {
       "item_id": 1
      }
     ]
    },
    "colab_type": "code",
    "executionInfo": {
     "elapsed": 300,
     "status": "error",
     "timestamp": 1518304777054,
     "user": {
      "displayName": "T. B. Jeremiah",
      "photoUrl": "//lh4.googleusercontent.com/-sbsNzgP8b30/AAAAAAAAAAI/AAAAAAAAArw/pGQiKVMiing/s50-c-k-no/photo.jpg",
      "userId": "117301031527496546310"
     },
     "user_tz": 300
    },
    "id": "KIh33TqFBCF8",
    "outputId": "68861352-ee44-4614-af54-cdcf7a8bcf52"
   },
   "outputs": [
    {
     "ename": "NameError",
     "evalue": "ignored",
     "output_type": "error",
     "traceback": [
      "\u001b[0;31m---------------------------------------------------------------------------\u001b[0m",
      "\u001b[0;31mNameError\u001b[0m                                 Traceback (most recent call last)",
      "\u001b[0;32m<ipython-input-33-d91e1be0562a>\u001b[0m in \u001b[0;36m<module>\u001b[0;34m()\u001b[0m\n\u001b[1;32m      1\u001b[0m \u001b[0mx\u001b[0m \u001b[0;34m=\u001b[0m \u001b[0;36m2\u001b[0m\u001b[0;34m\u001b[0m\u001b[0m\n\u001b[1;32m      2\u001b[0m \u001b[0my\u001b[0m \u001b[0;34m=\u001b[0m \u001b[0;36m5\u001b[0m\u001b[0;34m\u001b[0m\u001b[0m\n\u001b[0;32m----> 3\u001b[0;31m \u001b[0mxy\u001b[0m\u001b[0;34m\u001b[0m\u001b[0m\n\u001b[0m",
      "\u001b[0;31mNameError\u001b[0m: name 'xy' is not defined"
     ]
    }
   ],
   "source": [
    "x = 2\n",
    "y = 5\n",
    "xy"
   ]
  },
  {
   "cell_type": "markdown",
   "metadata": {
    "colab_type": "text",
    "id": "bcSnjcxLBI3P"
   },
   "source": [
    "### Exercise 2.2"
   ]
  },
  {
   "cell_type": "code",
   "execution_count": 0,
   "metadata": {
    "colab": {
     "autoexec": {
      "startup": false,
      "wait_interval": 0
     }
    },
    "colab_type": "code",
    "id": "nE73CMksBP1Q"
   },
   "outputs": [],
   "source": [
    "r = 5\n",
    "pi = 3.14159265359\n",
    "(4/3) * pi * r**3"
   ]
  },
  {
   "cell_type": "code",
   "execution_count": 0,
   "metadata": {
    "colab": {
     "autoexec": {
      "startup": false,
      "wait_interval": 0
     }
    },
    "colab_type": "code",
    "id": "YxzODQnHB7je"
   },
   "outputs": [],
   "source": [
    "price = 24.95\n",
    "discount = (60/100)*price\n",
    "print(discount)\n",
    "shipfirst = 3\n",
    "shipsecond = .75\n",
    "print((discount*60) + shipfirst + (shipsecond*59))"
   ]
  },
  {
   "cell_type": "code",
   "execution_count": 0,
   "metadata": {
    "colab": {
     "autoexec": {
      "startup": false,
      "wait_interval": 0
     }
    },
    "colab_type": "code",
    "id": "kQ1zqTHfEi2y"
   },
   "outputs": [],
   "source": [
    "easy = 8*60 + 15\n",
    "tempo = 7*60 + 12\n",
    "seconds = 1*easy + 3*tempo + 1*easy\n",
    "print(seconds)\n",
    "minutes = seconds/60\n",
    "print(minutes)\n",
    "hours = minutes/60\n",
    "print(hours)\n",
    "start = 52/60\n",
    "time = start + hours\n",
    "print(time)\n",
    "print(6 + time)"
   ]
  },
  {
   "cell_type": "markdown",
   "metadata": {
    "colab_type": "text",
    "id": "VOSiPg-rX7ax"
   },
   "source": [
    "# CHAPTER THREE"
   ]
  },
  {
   "cell_type": "markdown",
   "metadata": {
    "colab_type": "text",
    "id": "UvHxD3PgeCSv"
   },
   "source": [
    "Execution always begins at the first statement of the program. Statements are run one at a time, in order from top to bottom. ...statements inside the function don't run until the function is called. A function call is like a detour in the flow of execution. Instead of going to the next statement, the flow jumps to the body of the function, runs the statements there, then comes back to pick up where it left off.\n",
    "\n",
    "...when you read a program, you don't always want to read from top to bottom. Sometimes it makes more sense if you follow the flow of execution.\n",
    "(Allen Downey)"
   ]
  },
  {
   "cell_type": "markdown",
   "metadata": {
    "colab_type": "text",
    "id": "kEVfBPYuqwAl"
   },
   "source": [
    "\n",
    "\n",
    "*   **FRUITFUL FUNCTIONS:** those that return a value. In a script, calling such a function will not display or \"do\" anything with the value; you have to do more with it.\n",
    "*   **VOID FUNCTIONS:** those that perform an action but don't return a value. If you assign the \"result\" to a variable, you get NONE.\n",
    "\n"
   ]
  },
  {
   "cell_type": "markdown",
   "metadata": {
    "colab_type": "text",
    "id": "skEyQR7_ZtOd"
   },
   "source": [
    "## BASICS:"
   ]
  },
  {
   "cell_type": "markdown",
   "metadata": {
    "colab_type": "text",
    "id": "DeE80rGMX7UT"
   },
   "source": [
    "**FUNCTION:** A named sequence of statements that performs a computation. The name allows you to call the function later."
   ]
  },
  {
   "cell_type": "code",
   "execution_count": 1,
   "metadata": {
    "colab": {
     "autoexec": {
      "startup": false,
      "wait_interval": 0
     },
     "base_uri": "https://localhost:8080/",
     "height": 35,
     "output_extras": [
      {
       "item_id": 1
      }
     ]
    },
    "colab_type": "code",
    "executionInfo": {
     "elapsed": 290,
     "status": "ok",
     "timestamp": 1518562626270,
     "user": {
      "displayName": "T. B. Jeremiah",
      "photoUrl": "//lh4.googleusercontent.com/-sbsNzgP8b30/AAAAAAAAAAI/AAAAAAAAArw/pGQiKVMiing/s50-c-k-no/photo.jpg",
      "userId": "117301031527496546310"
     },
     "user_tz": 300
    },
    "id": "vidMp8PEYZLk",
    "outputId": "9acb6451-a09b-4f2e-84c7-cc4d2a5fa7e0"
   },
   "outputs": [
    {
     "data": {
      "text/plain": [
       "int"
      ]
     },
     "execution_count": 1,
     "metadata": {
      "tags": []
     },
     "output_type": "execute_result"
    }
   ],
   "source": [
    "type(42)"
   ]
  },
  {
   "cell_type": "markdown",
   "metadata": {
    "colab_type": "text",
    "id": "dGXs-x82YCiX"
   },
   "source": [
    "\n",
    "\n",
    "*   **Name:** type\n",
    "*   **Argument:** 42\n",
    "*   **Result:** int\n",
    "\n",
    "The function **takes and argument** and then **returns a result.**\n",
    "\n"
   ]
  },
  {
   "cell_type": "markdown",
   "metadata": {
    "colab_type": "text",
    "id": "_8fnlA2bZqTh"
   },
   "source": [
    "## MODULES"
   ]
  },
  {
   "cell_type": "markdown",
   "metadata": {
    "colab_type": "text",
    "id": "CzN9_6DLZ5kQ"
   },
   "source": [
    "**MODULE:** a file that contains a collection of related functions. To use, import using an **import statement**, which creates a **module object.**"
   ]
  },
  {
   "cell_type": "code",
   "execution_count": 4,
   "metadata": {
    "colab": {
     "autoexec": {
      "startup": false,
      "wait_interval": 0
     },
     "base_uri": "https://localhost:8080/",
     "height": 35,
     "output_extras": [
      {
       "item_id": 1
      }
     ]
    },
    "colab_type": "code",
    "executionInfo": {
     "elapsed": 280,
     "status": "ok",
     "timestamp": 1518563047523,
     "user": {
      "displayName": "T. B. Jeremiah",
      "photoUrl": "//lh4.googleusercontent.com/-sbsNzgP8b30/AAAAAAAAAAI/AAAAAAAAArw/pGQiKVMiing/s50-c-k-no/photo.jpg",
      "userId": "117301031527496546310"
     },
     "user_tz": 300
    },
    "id": "7WE2hYEcaSmC",
    "outputId": "8352dae1-6ce2-418a-bd86-2fc45edc09ce"
   },
   "outputs": [
    {
     "data": {
      "text/plain": [
       "<module 'math' (built-in)>"
      ]
     },
     "execution_count": 4,
     "metadata": {
      "tags": []
     },
     "output_type": "execute_result"
    }
   ],
   "source": [
    "math"
   ]
  },
  {
   "cell_type": "code",
   "execution_count": 0,
   "metadata": {
    "colab": {
     "autoexec": {
      "startup": false,
      "wait_interval": 0
     }
    },
    "colab_type": "code",
    "id": "DPYyBRlKabp9"
   },
   "outputs": [],
   "source": [
    "radians = 10\n",
    "height = math.sin(radians)\n",
    "print(height)"
   ]
  },
  {
   "cell_type": "markdown",
   "metadata": {
    "colab_type": "text",
    "id": "hQQvH_U8aoFt"
   },
   "source": [
    "To call a function that's in a module, you must first specify the module, then the function (e.g. math.sin)."
   ]
  },
  {
   "cell_type": "markdown",
   "metadata": {
    "colab_type": "text",
    "id": "p1pfFtAlbS0j"
   },
   "source": [
    "## DEFINING FUNCTIONS"
   ]
  },
  {
   "cell_type": "code",
   "execution_count": 0,
   "metadata": {
    "colab": {
     "autoexec": {
      "startup": false,
      "wait_interval": 0
     }
    },
    "colab_type": "code",
    "id": "6PIriqdCbWMY"
   },
   "outputs": [],
   "source": [
    "def print_sent():\n",
    "  print(\"hello\")\n",
    "  print(\"world\")\n",
    "  \n",
    "def replicate():\n",
    "  print_sent()\n",
    "  print_sent()\n",
    "  print_sent()\n",
    "  print(\"...\")\n",
    "\n",
    "replicate()"
   ]
  },
  {
   "cell_type": "markdown",
   "metadata": {
    "colab_type": "text",
    "id": "pFcv5ff4dAbE"
   },
   "source": [
    "Function definitions, when executed, produce function objects (type: function). They do not generate output unless the function is then called. You cannot call a function until it has been defined."
   ]
  },
  {
   "cell_type": "markdown",
   "metadata": {
    "colab_type": "text",
    "id": "zXKsOPf3gPm_"
   },
   "source": [
    "Some functions take arguments. Inside the function these are assigned to variables called **parameters**. Arguments/parameters passed through can be variables or expressions."
   ]
  },
  {
   "cell_type": "code",
   "execution_count": 0,
   "metadata": {
    "colab": {
     "autoexec": {
      "startup": false,
      "wait_interval": 0
     }
    },
    "colab_type": "code",
    "id": "VgwghCN8izef"
   },
   "outputs": [],
   "source": [
    "def printato(this):\n",
    "  print(\"I love \" + this + \"!\")\n",
    "\n",
    "boom = \"Kolya\"\n",
    "what = \"no one else\"\n",
    "\n",
    "printato(boom)\n",
    "printato(what)"
   ]
  },
  {
   "cell_type": "markdown",
   "metadata": {
    "colab_type": "text",
    "id": "kQrYXSV1kJ2N"
   },
   "source": [
    "Variables defined *within* a function are *local*, meaning that they only exist within the function and are destroyed as soon as the function has been executed. It cannot be called at that point. Parameters are likewise local."
   ]
  },
  {
   "cell_type": "markdown",
   "metadata": {
    "colab_type": "text",
    "id": "kK6CboEHkfDa"
   },
   "source": [
    "## STACK DIAGRAMS"
   ]
  },
  {
   "cell_type": "markdown",
   "metadata": {
    "colab_type": "text",
    "id": "d7BAZkgrpRrR"
   },
   "source": [
    "Displays the value of each variable, as well as the function to which each variable belongs (including __main__ which is the topmost frame in the diagram for variables not within a function). Can be useful for locating errors.\n",
    "\n",
    "[Example](http://greenteapress.com/thinkpython2/html/thinkpython2002.png)"
   ]
  },
  {
   "cell_type": "markdown",
   "metadata": {
    "colab_type": "text",
    "id": "B0v5Yincprz_"
   },
   "source": [
    "**Traceback:** a list of functions provided in an error message, starting with __main__ and ending with the currently running function. Tells you:\n",
    "\n",
    "*   program file error occurred in\n",
    "*   line number of code\n",
    "*   functions executing at the time\n",
    "*   line of code that caused error\n",
    "\n"
   ]
  },
  {
   "cell_type": "markdown",
   "metadata": {
    "colab_type": "text",
    "id": "DJiAHCKGsRAC"
   },
   "source": [
    "## EXERCISES"
   ]
  },
  {
   "cell_type": "markdown",
   "metadata": {
    "colab_type": "text",
    "id": "--tAYL7jsTSJ"
   },
   "source": [
    "### EXERCISE 3.1"
   ]
  },
  {
   "cell_type": "code",
   "execution_count": 0,
   "metadata": {
    "colab": {
     "autoexec": {
      "startup": false,
      "wait_interval": 0
     }
    },
    "colab_type": "code",
    "id": "wA86A4bGsWB0"
   },
   "outputs": [],
   "source": [
    "def right_justify(this):\n",
    "  space = 70 - len(this)\n",
    "  print(\" \" * space + this)\n",
    "  \n",
    "right_justify(\"help\")"
   ]
  },
  {
   "cell_type": "markdown",
   "metadata": {
    "colab_type": "text",
    "id": "88M95uY9tjP7"
   },
   "source": [
    "### EXERCISE 3.2"
   ]
  },
  {
   "cell_type": "code",
   "execution_count": 0,
   "metadata": {
    "colab": {
     "autoexec": {
      "startup": false,
      "wait_interval": 0
     }
    },
    "colab_type": "code",
    "id": "wrpXZiiKtsiq"
   },
   "outputs": [],
   "source": [
    "def do_twice(f):\n",
    "  f()\n",
    "  f()\n",
    "  \n",
    "def print_spam():\n",
    "  print('spam')\n",
    "\n",
    "do_twice(print_spam)"
   ]
  },
  {
   "cell_type": "code",
   "execution_count": 0,
   "metadata": {
    "colab": {
     "autoexec": {
      "startup": false,
      "wait_interval": 0
     }
    },
    "colab_type": "code",
    "id": "krhsyzwa5MO6"
   },
   "outputs": [],
   "source": [
    "def do_twice(f,v):\n",
    "  f(v)\n",
    "  f(v)\n",
    "  \n",
    "def print_spam():\n",
    "  print('spam')\n",
    "\n",
    "def print_twice(bruce):\n",
    "  print(bruce)\n",
    "  print(bruce)\n",
    "  \n",
    "do_twice(print_twice, \"spam\")"
   ]
  },
  {
   "cell_type": "code",
   "execution_count": 0,
   "metadata": {
    "colab": {
     "autoexec": {
      "startup": false,
      "wait_interval": 0
     }
    },
    "colab_type": "code",
    "id": "8963ae7V7EFv"
   },
   "outputs": [],
   "source": [
    "def do_four(f,v):\n",
    "  do_twice(f,v)\n",
    "  do_twice(f,v)\n",
    "\n",
    "def do_twice(f,v):\n",
    "  f(v)\n",
    "  f(v)\n",
    "  \n",
    "do_four(print, \"spam\")"
   ]
  },
  {
   "cell_type": "markdown",
   "metadata": {
    "colab_type": "text",
    "id": "lZZGUiqq-ccq"
   },
   "source": [
    "### EXERCISE 3.3"
   ]
  },
  {
   "cell_type": "code",
   "execution_count": 0,
   "metadata": {
    "colab": {
     "autoexec": {
      "startup": false,
      "wait_interval": 0
     }
    },
    "colab_type": "code",
    "id": "AM46v77e-fVq"
   },
   "outputs": [],
   "source": [
    "def grid(f,v,g):\n",
    "  print_cell(f,v,g)\n",
    "  print_cell(f,v,g)\n",
    "  print_border(f,v)\n",
    "\n",
    "def print_border(f,v):\n",
    "  print(f, v, v, v, v, end=\" \")\n",
    "  print(f, v, v, v, v, end=\" \")\n",
    "  print(f)\n",
    "\n",
    "def print_side(g):\n",
    "  print(g, end=\"         \")\n",
    "  print(g, end=\"         \")\n",
    "  print(g)\n",
    "  \n",
    "def do_four(a,b):\n",
    "  do_twice(a,b)\n",
    "  do_twice(a,b)\n",
    "\n",
    "def do_twice(a,b):\n",
    "  a(b)\n",
    "  a(b)\n",
    "  \n",
    "def print_cell(f,v,g):\n",
    "  print_border(f,v)\n",
    "  do_four(print_side, g)\n",
    "  \n",
    "grid(\"+\",\"-\",\"|\")"
   ]
  },
  {
   "cell_type": "code",
   "execution_count": 0,
   "metadata": {
    "colab": {
     "autoexec": {
      "startup": false,
      "wait_interval": 0
     }
    },
    "colab_type": "code",
    "id": "CD4rMJJ205fV"
   },
   "outputs": [],
   "source": [
    "def grid(f,v,g):\n",
    "  print_cell(f,v,g)\n",
    "  print_cell(f,v,g)\n",
    "  print_cell(f,v,g)\n",
    "  print_cell(f,v,g)\n",
    "  print_border(f,v)\n",
    "\n",
    "def print_border(f,v):\n",
    "  print(f, v, v, v, v, end=\" \")\n",
    "  print(f, v, v, v, v, end=\" \")\n",
    "  print(f, v, v, v, v, end=\" \")\n",
    "  print(f, v, v, v, v, end=\" \")\n",
    "  print(f)\n",
    "\n",
    "def print_side(g):\n",
    "  print(g, end=\"         \")\n",
    "  print(g, end=\"         \")\n",
    "  print(g, end=\"         \")\n",
    "  print(g, end=\"         \")\n",
    "  print(g)\n",
    "  \n",
    "def do_four(a,b):\n",
    "  do_twice(a,b)\n",
    "  do_twice(a,b)\n",
    "\n",
    "def do_twice(a,b):\n",
    "  a(b)\n",
    "  a(b)\n",
    "  \n",
    "def print_cell(f,v,g):\n",
    "  print_border(f,v)\n",
    "  do_four(print_side, g)\n",
    "  \n",
    "grid(\"*\",\"-\",\"!\")"
   ]
  },
  {
   "cell_type": "markdown",
   "metadata": {
    "colab_type": "text",
    "id": "YEHU83wXPYG0"
   },
   "source": [
    "# CHAPTER FOUR"
   ]
  },
  {
   "cell_type": "code",
   "execution_count": 0,
   "metadata": {
    "colab": {
     "autoexec": {
      "startup": false,
      "wait_interval": 0
     }
    },
    "colab_type": "code",
    "id": "OWGzgplxRjGS"
   },
   "outputs": [],
   "source": [
    "!apt install python3-tk -y"
   ]
  },
  {
   "cell_type": "code",
   "execution_count": 0,
   "metadata": {
    "colab": {
     "autoexec": {
      "startup": false,
      "wait_interval": 0
     }
    },
    "colab_type": "code",
    "id": "owYzPYK7Sr8l"
   },
   "outputs": [],
   "source": [
    "!pip install ipyturtle"
   ]
  },
  {
   "cell_type": "code",
   "execution_count": 1,
   "metadata": {
    "colab": {
     "autoexec": {
      "startup": false,
      "wait_interval": 0
     }
    },
    "colab_type": "code",
    "id": "SJZIpFeMTMHV"
   },
   "outputs": [],
   "source": [
    "import turtle"
   ]
  },
  {
   "cell_type": "code",
   "execution_count": 2,
   "metadata": {
    "colab": {
     "autoexec": {
      "startup": false,
      "wait_interval": 0
     }
    },
    "colab_type": "code",
    "id": "DOB2nw2zTj1k"
   },
   "outputs": [],
   "source": [
    "bob = turtle.Turtle()\n",
    "bob.fd(100)"
   ]
  },
  {
   "cell_type": "code",
   "execution_count": null,
   "metadata": {},
   "outputs": [],
   "source": []
  }
 ],
 "metadata": {
  "colab": {
   "default_view": {},
   "name": "ThinkPython.ipynb",
   "provenance": [],
   "version": "0.3.2",
   "views": {}
  },
  "kernelspec": {
   "display_name": "Python 3",
   "language": "python",
   "name": "python3"
  },
  "language_info": {
   "codemirror_mode": {
    "name": "ipython",
    "version": 3
   },
   "file_extension": ".py",
   "mimetype": "text/x-python",
   "name": "python",
   "nbconvert_exporter": "python",
   "pygments_lexer": "ipython3",
   "version": "3.6.4"
  }
 },
 "nbformat": 4,
 "nbformat_minor": 1
}
